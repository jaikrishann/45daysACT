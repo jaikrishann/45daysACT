{
 "cells": [
  {
   "cell_type": "code",
   "execution_count": 1,
   "id": "9212d1fd",
   "metadata": {},
   "outputs": [
    {
     "name": "stdout",
     "output_type": "stream",
     "text": [
      "the quick brown fox jumps over the lazy dog\n"
     ]
    }
   ],
   "source": [
    "\n",
    "text = \"THE QUICK BROWN FOX JUMPS OVER THE LAZY DOG\"\n",
    "\n",
    "lowercase_text = text.lower()\n",
    "print(lowercase_text)\n"
   ]
  },
  {
   "cell_type": "code",
   "execution_count": null,
   "id": "4c185902",
   "metadata": {},
   "outputs": [],
   "source": []
  },
  {
   "cell_type": "code",
   "execution_count": null,
   "id": "db11c034",
   "metadata": {},
   "outputs": [],
   "source": []
  },
  {
   "cell_type": "code",
   "execution_count": null,
   "id": "8f23d0a8",
   "metadata": {},
   "outputs": [],
   "source": []
  }
 ],
 "metadata": {
  "kernelspec": {
   "display_name": "Python 3",
   "language": "python",
   "name": "python3"
  },
  "language_info": {
   "codemirror_mode": {
    "name": "ipython",
    "version": 3
   },
   "file_extension": ".py",
   "mimetype": "text/x-python",
   "name": "python",
   "nbconvert_exporter": "python",
   "pygments_lexer": "ipython3",
   "version": "3.11.9"
  }
 },
 "nbformat": 4,
 "nbformat_minor": 5
}
