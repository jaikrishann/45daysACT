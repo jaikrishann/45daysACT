{
 "cells": [
  {
   "cell_type": "code",
   "execution_count": null,
   "id": "aec64e4c",
   "metadata": {},
   "outputs": [],
   "source": [
    "##food good \n",
    "##food not good \n",
    "\n",
    "\n",
    "##vocab -- {food good , not good  , food not }\n",
    "\n",
    "#n-gram -- 1,2,3\n",
    "##1 - unigram \n",
    "##2 - bigram\n",
    "##3 - trigram"
   ]
  },
  {
   "cell_type": "code",
   "execution_count": 1,
   "id": "211888ea",
   "metadata": {},
   "outputs": [],
   "source": [
    "from sklearn.feature_extraction.text import CountVectorizer"
   ]
  },
  {
   "cell_type": "code",
   "execution_count": 6,
   "id": "d8592ef8",
   "metadata": {},
   "outputs": [
    {
     "name": "stdout",
     "output_type": "stream",
     "text": [
      "[[1 1 1 1 1 1 1 1 1 1 1 1]]\n",
      "{'this': 6, 'movie': 1, 'was': 9, 'not': 4, 'good': 0, 'this movie': 7, 'movie was': 2, 'was not': 10, 'not good': 5, 'this movie was': 8, 'movie was not': 3, 'was not good': 11}\n",
      "['good' 'movie' 'movie was' 'movie was not' 'not' 'not good' 'this'\n",
      " 'this movie' 'this movie was' 'was' 'was not' 'was not good']\n"
     ]
    }
   ],
   "source": [
    "text = [\"this movie was not good\"]\n",
    "\n",
    "cv = CountVectorizer(ngram_range=(1,3))\n",
    "print(cv.fit_transform(text).toarray())\n",
    "print(cv.vocabulary_)\n",
    "print(cv.get_feature_names_out())\n"
   ]
  },
  {
   "cell_type": "code",
   "execution_count": null,
   "id": "ba9c9edb",
   "metadata": {},
   "outputs": [],
   "source": []
  },
  {
   "cell_type": "code",
   "execution_count": null,
   "id": "a0ee451a",
   "metadata": {},
   "outputs": [],
   "source": []
  },
  {
   "cell_type": "code",
   "execution_count": null,
   "id": "d8b5d8d5",
   "metadata": {},
   "outputs": [],
   "source": []
  }
 ],
 "metadata": {
  "kernelspec": {
   "display_name": "Python 3",
   "language": "python",
   "name": "python3"
  },
  "language_info": {
   "codemirror_mode": {
    "name": "ipython",
    "version": 3
   },
   "file_extension": ".py",
   "mimetype": "text/x-python",
   "name": "python",
   "nbconvert_exporter": "python",
   "pygments_lexer": "ipython3",
   "version": "3.11.9"
  }
 },
 "nbformat": 4,
 "nbformat_minor": 5
}
