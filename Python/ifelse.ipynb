{
 "cells": [
  {
   "cell_type": "code",
   "execution_count": 8,
   "id": "80bc381e",
   "metadata": {},
   "outputs": [
    {
     "name": "stdout",
     "output_type": "stream",
     "text": [
      "hello\n"
     ]
    }
   ],
   "source": [
    "##conditional statements ---> if , elif , else\n",
    "a = 10 \n",
    "b = 20\n",
    "c = 30 \n",
    "if not(b>a and a<c):\n",
    "    #indentation \n",
    "    print(\"b is greater than a and a is less than c\")\n",
    "# elif b==a:\n",
    "#     print(\"b is equal to a\")\n",
    "else:\n",
    "    print(\"hello\") \n"
   ]
  },
  {
   "cell_type": "code",
   "execution_count": null,
   "id": "8bd08d52",
   "metadata": {},
   "outputs": [
    {
     "name": "stdout",
     "output_type": "stream",
     "text": [
      "a is even\n"
     ]
    }
   ],
   "source": [
    "##nested if else \n",
    "a = int(input(\"enter a number\"))\n",
    "\n",
    "if a>0:\n",
    "    if a%2==0:\n",
    "        print(\"a is even\")\n",
    "    else:\n",
    "        print(\"a is odd\")\n",
    "else:\n",
    "    print(\"a is negative\")\n",
    "\n",
    "#check if number is divisible by 5 and 7 \n",
    "##year wo leap year hai ya nahi ?"
   ]
  },
  {
   "cell_type": "code",
   "execution_count": null,
   "id": "dde0801d",
   "metadata": {},
   "outputs": [],
   "source": []
  },
  {
   "cell_type": "code",
   "execution_count": null,
   "id": "9ca8e9ff",
   "metadata": {},
   "outputs": [],
   "source": []
  },
  {
   "cell_type": "code",
   "execution_count": null,
   "id": "c24fb374",
   "metadata": {},
   "outputs": [],
   "source": []
  },
  {
   "cell_type": "code",
   "execution_count": null,
   "id": "01aef276",
   "metadata": {},
   "outputs": [],
   "source": []
  }
 ],
 "metadata": {
  "kernelspec": {
   "display_name": "Python 3",
   "language": "python",
   "name": "python3"
  },
  "language_info": {
   "codemirror_mode": {
    "name": "ipython",
    "version": 3
   },
   "file_extension": ".py",
   "mimetype": "text/x-python",
   "name": "python",
   "nbconvert_exporter": "python",
   "pygments_lexer": "ipython3",
   "version": "3.11.9"
  }
 },
 "nbformat": 4,
 "nbformat_minor": 5
}
