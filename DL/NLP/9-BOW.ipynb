{
 "cells": [
  {
   "cell_type": "code",
   "execution_count": 4,
   "id": "1a999c53",
   "metadata": {},
   "outputs": [],
   "source": [
    "from sklearn.feature_extraction.text import CountVectorizer"
   ]
  },
  {
   "cell_type": "code",
   "execution_count": 1,
   "id": "7e969d00",
   "metadata": {},
   "outputs": [],
   "source": [
    "docs = ['The sun is shining', 'The weather is sweet', \n",
    "        'The sun is shining, the weather is sweet, and one and one']"
   ]
  },
  {
   "cell_type": "code",
   "execution_count": 10,
   "id": "13915706",
   "metadata": {},
   "outputs": [
    {
     "name": "stdout",
     "output_type": "stream",
     "text": [
      "{'the': 6, 'sun': 4, 'is': 1, 'shining': 3, 'weather': 7, 'sweet': 5, 'and': 0, 'one': 2}\n",
      "['and' 'is' 'one' 'shining' 'sun' 'sweet' 'the' 'weather']\n",
      "[[0 1 0 1 1 0 1 0]\n",
      " [0 1 0 0 0 1 1 1]\n",
      " [2 2 2 1 1 1 2 1]]\n"
     ]
    }
   ],
   "source": [
    "vec = CountVectorizer()\n",
    "x = vec.fit_transform(docs)\n",
    "#to see the vocabulary\n",
    "print(vec.vocabulary_)\n",
    "print(vec.get_feature_names_out())\n",
    "\n",
    "print(x.toarray())"
   ]
  },
  {
   "cell_type": "code",
   "execution_count": null,
   "id": "7893e258",
   "metadata": {},
   "outputs": [],
   "source": []
  },
  {
   "cell_type": "code",
   "execution_count": null,
   "id": "23534b73",
   "metadata": {},
   "outputs": [],
   "source": []
  },
  {
   "cell_type": "code",
   "execution_count": null,
   "id": "f281894c",
   "metadata": {},
   "outputs": [],
   "source": []
  },
  {
   "cell_type": "code",
   "execution_count": null,
   "id": "94798117",
   "metadata": {},
   "outputs": [],
   "source": []
  },
  {
   "cell_type": "code",
   "execution_count": null,
   "id": "f4b8c8c9",
   "metadata": {},
   "outputs": [],
   "source": []
  }
 ],
 "metadata": {
  "kernelspec": {
   "display_name": "Python 3",
   "language": "python",
   "name": "python3"
  },
  "language_info": {
   "codemirror_mode": {
    "name": "ipython",
    "version": 3
   },
   "file_extension": ".py",
   "mimetype": "text/x-python",
   "name": "python",
   "nbconvert_exporter": "python",
   "pygments_lexer": "ipython3",
   "version": "3.11.9"
  }
 },
 "nbformat": 4,
 "nbformat_minor": 5
}
