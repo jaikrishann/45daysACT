{
 "cells": [
  {
   "cell_type": "code",
   "execution_count": 1,
   "id": "457fce1c",
   "metadata": {},
   "outputs": [],
   "source": [
    "from sklearn.cluster import AgglomerativeClustering\n",
    "import matplotlib.pyplot as plt \n",
    "from scipy.cluster.hierarchy import linkage, dendrogram\n",
    "from sklearn.datasets import make_blobs"
   ]
  },
  {
   "cell_type": "code",
   "execution_count": 7,
   "id": "cc483fd6",
   "metadata": {},
   "outputs": [
    {
     "data": {
      "text/plain": [
       "array([[-5.02361807, 10.73622941],\n",
       "       [-7.76553071,  3.40743785],\n",
       "       [-4.25577307, 10.85002898],\n",
       "       [-5.20995049,  9.54933449],\n",
       "       [-3.97521218,  7.5007642 ],\n",
       "       [-2.53211633, -2.63193093],\n",
       "       [-1.94944213, -2.24325936],\n",
       "       [-5.67182088, -0.09086652],\n",
       "       [-4.28219723, 10.78988484],\n",
       "       [ 0.68414196, -1.81814108],\n",
       "       [-3.1788131 , 10.91393138],\n",
       "       [-2.43492495, -1.81991499],\n",
       "       [-5.78813591,  0.79915132],\n",
       "       [-3.65303783,  9.47545195],\n",
       "       [-3.16452816, 11.804271  ],\n",
       "       [-3.67554026, 11.06774518],\n",
       "       [-5.69265009,  2.06913976],\n",
       "       [-7.94171129,  0.04940994],\n",
       "       [-0.77294347, -1.64263501],\n",
       "       [-3.93667699, 10.82913297],\n",
       "       [-2.24131899, -2.11347326],\n",
       "       [-5.90219606,  2.81796843],\n",
       "       [ 0.09329969, -0.43482615],\n",
       "       [-7.07010375,  0.40954318],\n",
       "       [-2.52980664, -2.70770126],\n",
       "       [-5.23907405,  0.34991909],\n",
       "       [-1.98035192,  0.17911346],\n",
       "       [-3.31121819, 12.24125963],\n",
       "       [-4.67284705, 10.71091667],\n",
       "       [-2.43567308, -1.72638418],\n",
       "       [-1.61733014, -3.4084012 ],\n",
       "       [-4.24203184, 10.24465137],\n",
       "       [-6.17223157,  1.49817672],\n",
       "       [-2.76534368,  8.74783556],\n",
       "       [ 0.28137422, -0.87738672],\n",
       "       [-2.31858868, -2.12620845],\n",
       "       [-2.01287011, -1.29309031],\n",
       "       [-2.58396059, 10.867707  ],\n",
       "       [-6.30711813,  0.36756546],\n",
       "       [-5.82035042,  0.29701403],\n",
       "       [-4.06101568, 10.03142778],\n",
       "       [-2.13307868, -1.03780377],\n",
       "       [-1.37852139, -3.53746508],\n",
       "       [-4.34735081, -0.53136306],\n",
       "       [-2.34214924, -1.21526997],\n",
       "       [-5.1520473 , -0.50970872],\n",
       "       [-0.72907054, -4.1487683 ],\n",
       "       [-1.50301789, -2.12320873],\n",
       "       [-0.83878826, -3.13981459],\n",
       "       [-4.7679241 ,  8.62895025],\n",
       "       [-8.16647836,  0.80910863],\n",
       "       [-4.98466306,  0.04945237],\n",
       "       [-6.65119438, -1.69407246],\n",
       "       [-4.35235191, 10.40780311],\n",
       "       [-3.56370523, 10.12621356],\n",
       "       [-7.54199565,  2.65740581],\n",
       "       [-2.04668051, -2.17363897],\n",
       "       [-5.40958188, -0.31615262],\n",
       "       [-4.32753978,  9.58655249],\n",
       "       [-4.21100846,  0.85111274],\n",
       "       [-4.67443604,  9.8930401 ],\n",
       "       [-7.58341471,  0.17360767],\n",
       "       [-3.43347141,  8.57986912],\n",
       "       [-3.90196582, 10.25247549],\n",
       "       [-6.40755346, -0.78397392],\n",
       "       [-1.58877056, -2.14997699],\n",
       "       [-1.6265772 , -2.50560404],\n",
       "       [-5.43209652,  8.36733433],\n",
       "       [-5.89902294,  1.20505107],\n",
       "       [-5.61405887,  0.15859622],\n",
       "       [-4.82776792,  8.75867809],\n",
       "       [-6.44957249,  0.87224171],\n",
       "       [-3.29504407, -1.25110265],\n",
       "       [ 0.57767671, -2.48670877],\n",
       "       [-0.42355378, -1.84011204],\n",
       "       [-7.4482176 ,  1.81752071],\n",
       "       [-4.83914045,  1.40333208],\n",
       "       [-5.95665427, -0.76343495],\n",
       "       [-3.23523615,  9.13692188],\n",
       "       [-5.18709039, 11.19234591],\n",
       "       [-2.36931952,  9.80370861],\n",
       "       [-5.02713614, 10.95176474],\n",
       "       [-1.19787417, -1.54777185],\n",
       "       [-0.93997392, -1.44157288],\n",
       "       [-5.2136329 ,  1.31159664],\n",
       "       [-7.86183965,  0.33548528],\n",
       "       [-2.82127095, -2.30684099],\n",
       "       [-5.15477026,  2.06654253],\n",
       "       [-1.5746582 , -3.33949527],\n",
       "       [-4.97187796,  0.54764198],\n",
       "       [-3.33287088, 10.04997013],\n",
       "       [-0.92885313, -1.73580965],\n",
       "       [-2.62456032,  8.92167166],\n",
       "       [-5.2857865 , 10.38669759],\n",
       "       [-6.31823351,  1.37891998],\n",
       "       [-0.46199625, -2.42537238],\n",
       "       [-7.09790239,  0.45542977],\n",
       "       [-3.14129638, 11.22327078],\n",
       "       [-1.36533842, -1.14354024],\n",
       "       [-6.77230918, -0.55630407]])"
      ]
     },
     "execution_count": 7,
     "metadata": {},
     "output_type": "execute_result"
    }
   ],
   "source": [
    "##see the dataset \n",
    "X"
   ]
  },
  {
   "cell_type": "code",
   "execution_count": 2,
   "id": "9f217ca0",
   "metadata": {},
   "outputs": [],
   "source": [
    "#create synthethic data \n",
    "X , _ = make_blobs(n_samples=100,centers=3,cluster_std=1.0)"
   ]
  },
  {
   "cell_type": "code",
   "execution_count": 3,
   "id": "728f4baf",
   "metadata": {},
   "outputs": [],
   "source": [
    "model = AgglomerativeClustering(n_clusters=3,linkage=\"ward\")\n",
    "labels = model.fit_predict(X)"
   ]
  },
  {
   "cell_type": "code",
   "execution_count": 5,
   "id": "597af97b",
   "metadata": {},
   "outputs": [
    {
     "data": {
      "image/png": "[encoded data removed]",
      "text/plain": [
       "<Figure size 1000x600 with 1 Axes>"
      ]
     },
     "metadata": {},
     "output_type": "display_data"
    }
   ],
   "source": [
    "##dendogram \n",
    "linked = linkage(X,method=\"ward\")\n",
    "plt.figure(figsize=(10,6))\n",
    "dendrogram(linked)\n",
    "plt.xticks(rotation=90)\n",
    "plt.show()"
   ]
  },
  {
   "cell_type": "code",
   "execution_count": null,
   "metadata": {},
   "outputs": [],
   "source": []
  },
  {
   "cell_type": "code",
   "execution_count": null,
   "id": "08b3d7c9",
   "metadata": {},
   "outputs": [],
   "source": []
  }
 ],
 "metadata": {
  "kernelspec": {
   "display_name": "Python 3",
   "language": "python",
   "name": "python3"
  },
  "language_info": {
   "codemirror_mode": {
    "name": "ipython",
    "version": 3
   },
   "file_extension": ".py",
   "mimetype": "text/x-python",
   "name": "python",
   "nbconvert_exporter": "python",
   "pygments_lexer": "ipython3",
   "version": "3.11.9"
  }
 },
 "nbformat": 4,
 "nbformat_minor": 5
}
