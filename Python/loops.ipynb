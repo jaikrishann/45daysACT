{
 "cells": [
  {
   "cell_type": "code",
   "execution_count": null,
   "id": "100dae99",
   "metadata": {},
   "outputs": [
    {
     "name": "stdout",
     "output_type": "stream",
     "text": [
      "h e l l o "
     ]
    }
   ],
   "source": [
    "#for and while loop\n",
    "#for loop -- iterating over a sequence(list,tuple,dict,string)\n",
    "\n",
    "##string \n",
    "# for i in \"hello\":\n",
    "#     print(i,end=\" \")\n",
    "\n",
    "##list\n",
    "# lst = [\"red\",\"blue\",\"green\",\"black\"]\n",
    "# for i in lst:\n",
    "#     print(i)"
   ]
  },
  {
   "cell_type": "code",
   "execution_count": 8,
   "id": "2e399d33",
   "metadata": {},
   "outputs": [
    {
     "name": "stdout",
     "output_type": "stream",
     "text": [
      "name ----- John\n",
      "age ----- 20\n",
      "gender ----- male\n"
     ]
    }
   ],
   "source": [
    "#\n",
    "dt = {\n",
    "    \"name\":\"John\",\n",
    "    \"age\":20,\n",
    "    \"gender\":\"male\"\n",
    "}\n",
    "for i,y in dt.items():\n",
    "    print(i,\"-----\",y)"
   ]
  },
  {
   "cell_type": "code",
   "execution_count": 11,
   "id": "05a53c27",
   "metadata": {},
   "outputs": [
    {
     "name": "stdout",
     "output_type": "stream",
     "text": [
      "2\n",
      "4\n",
      "6\n",
      "8\n"
     ]
    }
   ],
   "source": [
    "for i in range(2,10,2):\n",
    "    print(i)"
   ]
  },
  {
   "cell_type": "code",
   "execution_count": 12,
   "id": "b5319a7d",
   "metadata": {},
   "outputs": [
    {
     "name": "stdout",
     "output_type": "stream",
     "text": [
      "1 red\n",
      "------\n",
      "1 blue\n",
      "------\n",
      "1 green\n",
      "------\n",
      "2 red\n",
      "------\n",
      "2 blue\n",
      "------\n",
      "2 green\n",
      "------\n",
      "3 red\n",
      "------\n",
      "3 blue\n",
      "------\n",
      "3 green\n",
      "------\n"
     ]
    }
   ],
   "source": [
    "##nested for loop\n",
    "lst1 = [1,2,3]\n",
    "lst2 = [\"red\",\"blue\",\"green\"]\n",
    "for i in lst1:\n",
    "    for j in lst2:\n",
    "        print(i,j)\n",
    "        print(\"------\")"
   ]
  },
  {
   "cell_type": "code",
   "execution_count": null,
   "id": "905ab849",
   "metadata": {},
   "outputs": [
    {
     "name": "stdout",
     "output_type": "stream",
     "text": [
      "1\n",
      "2\n",
      "3\n",
      "4\n",
      "6\n",
      "7\n",
      "8\n",
      "9\n"
     ]
    }
   ],
   "source": [
    "##break and continue\n",
    "# for i in range(1,10):\n",
    "#     if i==5:\n",
    "#         break\n",
    "#     print(i)\n",
    "    \n",
    "# for i in range(1,10):\n",
    "#     if i==5:\n",
    "#         continue\n",
    "#     print(i)"
   ]
  },
  {
   "cell_type": "code",
   "execution_count": 16,
   "id": "912aa45a",
   "metadata": {},
   "outputs": [],
   "source": [
    "##pass\n",
    "for i in range(1,10):\n",
    "    pass\n",
    "    "
   ]
  },
  {
   "cell_type": "code",
   "execution_count": 17,
   "id": "80e660d4",
   "metadata": {},
   "outputs": [
    {
     "name": "stdout",
     "output_type": "stream",
     "text": [
      "[1, 4, 9, 16, 25]\n"
     ]
    }
   ],
   "source": [
    "##you have to square the given list and print the result in a list \n",
    "lst = [1,2,3,4,5]\n",
    "lst1 = []\n",
    "for i in lst:\n",
    "    lst1.append(i**2)\n",
    "print(lst1)"
   ]
  },
  {
   "cell_type": "code",
   "execution_count": 20,
   "id": "d798ccbe",
   "metadata": {},
   "outputs": [
    {
     "name": "stdout",
     "output_type": "stream",
     "text": [
      "10\n",
      "9\n",
      "8\n",
      "7\n",
      "6\n",
      "5\n",
      "4\n",
      "3\n",
      "2\n",
      "1\n"
     ]
    }
   ],
   "source": [
    "##while lloop \n",
    "i = 10\n",
    "while i>=1:\n",
    "    print(i)\n",
    "    i-=1"
   ]
  },
  {
   "cell_type": "code",
   "execution_count": null,
   "id": "b864ad01",
   "metadata": {},
   "outputs": [],
   "source": [
    "# find the sum of numbers from 1 to 10 using while loop\n"
   ]
  }
 ],
 "metadata": {
  "kernelspec": {
   "display_name": "Python 3",
   "language": "python",
   "name": "python3"
  },
  "language_info": {
   "codemirror_mode": {
    "name": "ipython",
    "version": 3
   },
   "file_extension": ".py",
   "mimetype": "text/x-python",
   "name": "python",
   "nbconvert_exporter": "python",
   "pygments_lexer": "ipython3",
   "version": "3.11.9"
  }
 },
 "nbformat": 4,
 "nbformat_minor": 5
}
