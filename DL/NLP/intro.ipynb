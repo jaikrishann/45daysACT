{
 "cells": [
  {
   "cell_type": "code",
   "execution_count": null,
   "id": "709e4f15",
   "metadata": {},
   "outputs": [],
   "source": [
    "# nlp is a subfield of ai which helps us to understand human language\n",
    "##rnn ---> text data --> prep-->nlp-->\n",
    "##cnn--> image data---> prep-->IP\n"
   ]
  },
  {
   "cell_type": "code",
   "execution_count": null,
   "id": "b6294a4b",
   "metadata": {},
   "outputs": [],
   "source": [
    "#preprocess\n",
    "##lowercase\n",
    "##stemming \n",
    "#lemmatization\n",
    "##tokenization\n",
    "##stopword removal\n",
    "##punctuation removal\n",
    "#pos tag \n",
    "#ner - named entity recognition"
   ]
  },
  {
   "cell_type": "code",
   "execution_count": null,
   "id": "7e25778d",
   "metadata": {},
   "outputs": [],
   "source": [
    "##- algo --maths -- text -->numerical(vectors) -->word embeddings \n",
    "#one hot encoding \n",
    "#bag of words\n",
    "#tf-idf\n",
    "#word2vec \n",
    "\n",
    "## pip install nltk "
   ]
  },
  {
   "cell_type": "code",
   "execution_count": null,
   "id": "67979cb9",
   "metadata": {},
   "outputs": [],
   "source": []
  },
  {
   "cell_type": "code",
   "execution_count": null,
   "id": "1350f062",
   "metadata": {},
   "outputs": [],
   "source": []
  },
  {
   "cell_type": "code",
   "execution_count": null,
   "id": "b66df769",
   "metadata": {},
   "outputs": [],
   "source": []
  },
  {
   "cell_type": "code",
   "execution_count": null,
   "id": "94fa5d97",
   "metadata": {},
   "outputs": [],
   "source": []
  },
  {
   "cell_type": "code",
   "execution_count": null,
   "id": "a269774f",
   "metadata": {},
   "outputs": [],
   "source": []
  }
 ],
 "metadata": {
  "kernelspec": {
   "display_name": "Python 3",
   "language": "python",
   "name": "python3"
  },
  "language_info": {
   "codemirror_mode": {
    "name": "ipython",
    "version": 3
   },
   "file_extension": ".py",
   "mimetype": "text/x-python",
   "name": "python",
   "nbconvert_exporter": "python",
   "pygments_lexer": "ipython3",
   "version": "3.11.9"
  }
 },
 "nbformat": 4,
 "nbformat_minor": 5
}
