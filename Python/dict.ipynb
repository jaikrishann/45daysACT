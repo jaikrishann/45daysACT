{
 "cells": [
  {
   "cell_type": "code",
   "execution_count": null,
   "id": "ebbd51a3",
   "metadata": {},
   "outputs": [],
   "source": [
    "##dict -- key value pair\n",
    "##dict = {}\n",
    "##dict --ordered ,mutuable , and do not allow duplicates"
   ]
  },
  {
   "cell_type": "code",
   "execution_count": 4,
   "id": "840fba90",
   "metadata": {},
   "outputs": [
    {
     "name": "stdout",
     "output_type": "stream",
     "text": [
      "{'name': ['hello', 'world'], 'age': {'age1': 10, 'age2': 20}, 'hobby': 'coding'}\n",
      "<class 'dict'>\n"
     ]
    }
   ],
   "source": [
    "dt = {\n",
    "    \"name\" : [\"hello\",\"world\"],\n",
    "    \"age\" : 20,\n",
    "    \"hobby\" : \"coding\",\n",
    "    \"age\" : {\"age1\" : 10 , \"age2\" : 20}\n",
    "}\n",
    "print(dt)\n",
    "print(type(dt))"
   ]
  },
  {
   "cell_type": "code",
   "execution_count": 7,
   "id": "de1f7291",
   "metadata": {},
   "outputs": [
    {
     "data": {
      "text/plain": [
       "{'name': ['hello', 'world'],\n",
       " 'age': {'age1': 10, 'age2': 20},\n",
       " 'hobby': 'basketball'}"
      ]
     },
     "execution_count": 7,
     "metadata": {},
     "output_type": "execute_result"
    }
   ],
   "source": [
    "dt[\"hobby\"] = \"basketball\"\n",
    "dt"
   ]
  },
  {
   "cell_type": "code",
   "execution_count": null,
   "id": "b127e947",
   "metadata": {},
   "outputs": [
    {
     "data": {
      "text/plain": [
       "{'name': 'hello', 'age': 20, 'hobby': 'basketball', 'class': '10th'}"
      ]
     },
     "execution_count": 19,
     "metadata": {},
     "output_type": "execute_result"
    }
   ],
   "source": [
    "dt = {\n",
    "    \"name\" : \"hello\",\n",
    "    \"age\" : 20,\n",
    "    \"hobby\" : \"coding\"}\n",
    "# dt.get(\"name\")\n",
    "# dt.items()\n",
    "# dt.keys()\n",
    "# dt.values()\n",
    "# dt.pop(\"age\")\n",
    "# dt.popitem()\n",
    "# dt.update({\"hobby\" : \"basketball\",\"class\": \"10th\"})\n",
    "# dt"
   ]
  },
  {
   "cell_type": "code",
   "execution_count": null,
   "id": "a60bf106",
   "metadata": {},
   "outputs": [
    {
     "name": "stdout",
     "output_type": "stream",
     "text": [
      "{'a': 1, 'b': 2}\n"
     ]
    }
   ],
   "source": [
    "# dt = {\"a\":1}\n",
    "# value = dt.setdefault(\"b\",2)\n",
    "# print(dt)"
   ]
  },
  {
   "cell_type": "code",
   "execution_count": 27,
   "id": "de5aef6a",
   "metadata": {},
   "outputs": [
    {
     "name": "stdout",
     "output_type": "stream",
     "text": [
      "{'h': 10, 'e': 10, 'l': 10, 'o': 10}\n"
     ]
    }
   ],
   "source": [
    "#fromkeys\n",
    "dt = {}.fromkeys(\"hello\",10)\n",
    "print(dt)"
   ]
  },
  {
   "cell_type": "code",
   "execution_count": null,
   "id": "45e40a7e",
   "metadata": {},
   "outputs": [],
   "source": []
  },
  {
   "cell_type": "code",
   "execution_count": null,
   "id": "f7d5f47f",
   "metadata": {},
   "outputs": [],
   "source": []
  },
  {
   "cell_type": "code",
   "execution_count": null,
   "id": "f45fbe71",
   "metadata": {},
   "outputs": [],
   "source": []
  }
 ],
 "metadata": {
  "kernelspec": {
   "display_name": "Python 3",
   "language": "python",
   "name": "python3"
  },
  "language_info": {
   "codemirror_mode": {
    "name": "ipython",
    "version": 3
   },
   "file_extension": ".py",
   "mimetype": "text/x-python",
   "name": "python",
   "nbconvert_exporter": "python",
   "pygments_lexer": "ipython3",
   "version": "3.11.9"
  }
 },
 "nbformat": 4,
 "nbformat_minor": 5
}
