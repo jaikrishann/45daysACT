{
 "cells": [
  {
   "cell_type": "code",
   "execution_count": null,
   "id": "e54d0e0e",
   "metadata": {},
   "outputs": [],
   "source": [
    "##class , object , method\n",
    "##4 type of oops\n",
    "##inheritance --- single , multiple , multilevel , hyerarchial , hybrid\n",
    "#  , polymorphism , encapsulation "
   ]
  },
  {
   "cell_type": "code",
   "execution_count": null,
   "id": "71874bff",
   "metadata": {},
   "outputs": [],
   "source": [
    "##class - blueprint of object\n",
    "##object - instance of class"
   ]
  },
  {
   "cell_type": "code",
   "execution_count": 1,
   "id": "7b75485a",
   "metadata": {},
   "outputs": [
    {
     "data": {
      "text/plain": [
       "('abc', 'xyz')"
      ]
     },
     "execution_count": 1,
     "metadata": {},
     "output_type": "execute_result"
    }
   ],
   "source": [
    "class Car:\n",
    "    ##class variable\n",
    "    num1 = 10 \n",
    "    num2 = 20 \n",
    "    name = \"abc\"\n",
    "    model = \"xyz\"\n",
    "\n",
    "    # function vs method\n",
    "    #self\n",
    "    def add(self):\n",
    "        return self.num1 + self.num2\n",
    "    \n",
    "    def display(self):\n",
    "        return self.name , self.model\n",
    "    \n",
    "#obj == \n",
    "obj =Car()\n",
    "obj.display()"
   ]
  },
  {
   "cell_type": "code",
   "execution_count": null,
   "id": "d7aa79eb",
   "metadata": {},
   "outputs": [
    {
     "data": {
      "text/plain": [
       "('lion', 10)"
      ]
     },
     "execution_count": 5,
     "metadata": {},
     "output_type": "execute_result"
    }
   ],
   "source": [
    "##init -- constructor -- initialize the variable\n",
    "class animal:\n",
    "    def __init__(self,name,age):\n",
    "       self.name = name\n",
    "       self.age = age\n",
    "\n",
    "    def display(self):\n",
    "        return self.name , self.age\n",
    "    \n",
    "obj = animal(\"lion\",10)\n",
    "obj.display()\n"
   ]
  },
  {
   "cell_type": "code",
   "execution_count": null,
   "id": "7a50ee0d",
   "metadata": {},
   "outputs": [],
   "source": []
  }
 ],
 "metadata": {
  "kernelspec": {
   "display_name": "Python 3",
   "language": "python",
   "name": "python3"
  },
  "language_info": {
   "codemirror_mode": {
    "name": "ipython",
    "version": 3
   },
   "file_extension": ".py",
   "mimetype": "text/x-python",
   "name": "python",
   "nbconvert_exporter": "python",
   "pygments_lexer": "ipython3",
   "version": "3.11.9"
  }
 },
 "nbformat": 4,
 "nbformat_minor": 5
}
