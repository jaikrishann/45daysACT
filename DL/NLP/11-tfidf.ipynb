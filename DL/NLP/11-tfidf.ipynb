{
 "cells": [
  {
   "cell_type": "code",
   "execution_count": 1,
   "id": "356bd1c8",
   "metadata": {},
   "outputs": [],
   "source": [
    "##tf -idf \n",
    "##term frequency - inverse document frequency\n",
    "from sklearn.feature_extraction.text import TfidfVectorizer\n",
    "vectorizer = TfidfVectorizer()"
   ]
  },
  {
   "cell_type": "code",
   "execution_count": 3,
   "id": "cf0530a1",
   "metadata": {},
   "outputs": [
    {
     "name": "stdout",
     "output_type": "stream",
     "text": [
      "[[0.78980693 0.         0.61335554]\n",
      " [0.         0.78980693 0.61335554]\n",
      " [0.61980538 0.61980538 0.48133417]]\n",
      "{'good': 2, 'boy': 0, 'girl': 1}\n",
      "[1.28768207 1.28768207 1.        ]\n",
      "['boy' 'girl' 'good']\n"
     ]
    }
   ],
   "source": [
    "doc = [\"good boy\", \"good girl\", \"boy girl good\"]\n",
    "print(vectorizer.fit_transform(doc).toarray())\n",
    "print(vectorizer.vocabulary_)\n",
    "print(vectorizer.idf_)\n",
    "# print(vectorizer.vocabulary_)\n",
    "print(vectorizer.get_feature_names_out())\n"
   ]
  },
  {
   "cell_type": "code",
   "execution_count": null,
   "id": "56d1ab2f",
   "metadata": {},
   "outputs": [],
   "source": [
    "##word embedding --\n",
    "#1 -- count or frq --- one hot encoding, bow , ngram , tfidf \n",
    "#2 -- deep learning pre trained models -- word2vec(Cbow and skipgram )\n",
    "#  , Glove , fasttext"
   ]
  },
  {
   "cell_type": "code",
   "execution_count": null,
   "id": "8f9b1a16",
   "metadata": {},
   "outputs": [],
   "source": [
    "##word2vec -- google -- 2013 -- news data  -- 300B"
   ]
  },
  {
   "cell_type": "code",
   "execution_count": null,
   "id": "d9ff7e96",
   "metadata": {},
   "outputs": [],
   "source": [
    "##cosine similarity"
   ]
  },
  {
   "cell_type": "code",
   "execution_count": null,
   "id": "0602168c",
   "metadata": {},
   "outputs": [],
   "source": []
  },
  {
   "cell_type": "code",
   "execution_count": null,
   "id": "5d09bbd0",
   "metadata": {},
   "outputs": [],
   "source": []
  },
  {
   "cell_type": "code",
   "execution_count": null,
   "id": "77112620",
   "metadata": {},
   "outputs": [],
   "source": []
  },
  {
   "cell_type": "code",
   "execution_count": null,
   "id": "f522f73d",
   "metadata": {},
   "outputs": [],
   "source": []
  }
 ],
 "metadata": {
  "kernelspec": {
   "display_name": "Python 3",
   "language": "python",
   "name": "python3"
  },
  "language_info": {
   "codemirror_mode": {
    "name": "ipython",
    "version": 3
   },
   "file_extension": ".py",
   "mimetype": "text/x-python",
   "name": "python",
   "nbconvert_exporter": "python",
   "pygments_lexer": "ipython3",
   "version": "3.11.9"
  }
 },
 "nbformat": 4,
 "nbformat_minor": 5
}
