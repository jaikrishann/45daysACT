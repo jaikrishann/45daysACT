{
 "cells": [
  {
   "cell_type": "code",
   "execution_count": null,
   "id": "9d3900a2",
   "metadata": {},
   "outputs": [],
   "source": [
    "### Tokenization--break large text into smaller units\n",
    "#  paragraph into sentences\n",
    "##sent --- words "
   ]
  },
  {
   "cell_type": "code",
   "execution_count": 1,
   "id": "c2962ad4",
   "metadata": {},
   "outputs": [],
   "source": [
    "corpus = 'In December 1928, Bhagat Singh and an associate, Shivaram Rajguru, both members of a small revolutionary group, the Hindustan Socialist Republican Association (also Army, or HSRA), shot dead a 21-year-old British police officer, John Saunders, in Lahore, Punjab, in what is today Pakistan, mistaking Saunders, who was still on probation, for the British senior police superintendent, James Scott, whom they had intended to assassinate.'"
   ]
  },
  {
   "cell_type": "code",
   "execution_count": 2,
   "id": "557ef6b0",
   "metadata": {},
   "outputs": [],
   "source": [
    "from nltk.tokenize import sent_tokenize,word_tokenize"
   ]
  },
  {
   "cell_type": "code",
   "execution_count": 3,
   "id": "03916c2e",
   "metadata": {},
   "outputs": [
    {
     "name": "stdout",
     "output_type": "stream",
     "text": [
      "In December 1928, Bhagat Singh and an associate, Shivaram Rajguru, both members of a small revolutionary group, the Hindustan Socialist Republican Association (also Army, or HSRA), shot dead a 21-year-old British police officer, John Saunders, in Lahore, Punjab, in what is today Pakistan, mistaking Saunders, who was still on probation, for the British senior police superintendent, James Scott, whom they had intended to assassinate.\n",
      "\n",
      "\n",
      "['In', 'December', '1928', ',', 'Bhagat', 'Singh', 'and', 'an', 'associate', ',', 'Shivaram', 'Rajguru', ',', 'both', 'members', 'of', 'a', 'small', 'revolutionary', 'group', ',', 'the', 'Hindustan', 'Socialist', 'Republican', 'Association', '(', 'also', 'Army', ',', 'or', 'HSRA', ')', ',', 'shot', 'dead', 'a', '21-year-old', 'British', 'police', 'officer', ',', 'John', 'Saunders', ',', 'in', 'Lahore', ',', 'Punjab', ',', 'in', 'what', 'is', 'today', 'Pakistan', ',', 'mistaking', 'Saunders', ',', 'who', 'was', 'still', 'on', 'probation', ',', 'for', 'the', 'British', 'senior', 'police', 'superintendent', ',', 'James', 'Scott', ',', 'whom', 'they', 'had', 'intended', 'to', 'assassinate', '.']\n",
      "\n",
      "\n"
     ]
    }
   ],
   "source": [
    "doc = sent_tokenize(corpus)\n",
    "for i in doc:\n",
    "    print(i)\n",
    "    print('\\n')\n",
    "    print(word_tokenize(i))\n",
    "    print('\\n')"
   ]
  },
  {
   "cell_type": "code",
   "execution_count": 4,
   "id": "427df4fd",
   "metadata": {},
   "outputs": [
    {
     "data": {
      "text/plain": [
       "['In',\n",
       " 'December',\n",
       " '1928',\n",
       " ',',\n",
       " 'Bhagat',\n",
       " 'Singh',\n",
       " 'and',\n",
       " 'an',\n",
       " 'associate',\n",
       " ',',\n",
       " 'Shivaram',\n",
       " 'Rajguru',\n",
       " ',',\n",
       " 'both',\n",
       " 'members',\n",
       " 'of',\n",
       " 'a',\n",
       " 'small',\n",
       " 'revolutionary',\n",
       " 'group',\n",
       " ',',\n",
       " 'the',\n",
       " 'Hindustan',\n",
       " 'Socialist',\n",
       " 'Republican',\n",
       " 'Association',\n",
       " '(',\n",
       " 'also',\n",
       " 'Army',\n",
       " ',',\n",
       " 'or',\n",
       " 'HSRA',\n",
       " '),',\n",
       " 'shot',\n",
       " 'dead',\n",
       " 'a',\n",
       " '21',\n",
       " '-',\n",
       " 'year',\n",
       " '-',\n",
       " 'old',\n",
       " 'British',\n",
       " 'police',\n",
       " 'officer',\n",
       " ',',\n",
       " 'John',\n",
       " 'Saunders',\n",
       " ',',\n",
       " 'in',\n",
       " 'Lahore',\n",
       " ',',\n",
       " 'Punjab',\n",
       " ',',\n",
       " 'in',\n",
       " 'what',\n",
       " 'is',\n",
       " 'today',\n",
       " 'Pakistan',\n",
       " ',',\n",
       " 'mistaking',\n",
       " 'Saunders',\n",
       " ',',\n",
       " 'who',\n",
       " 'was',\n",
       " 'still',\n",
       " 'on',\n",
       " 'probation',\n",
       " ',',\n",
       " 'for',\n",
       " 'the',\n",
       " 'British',\n",
       " 'senior',\n",
       " 'police',\n",
       " 'superintendent',\n",
       " ',',\n",
       " 'James',\n",
       " 'Scott',\n",
       " ',',\n",
       " 'whom',\n",
       " 'they',\n",
       " 'had',\n",
       " 'intended',\n",
       " 'to',\n",
       " 'assassinate',\n",
       " '.']"
      ]
     },
     "execution_count": 4,
     "metadata": {},
     "output_type": "execute_result"
    }
   ],
   "source": [
    "##word punct tokenization -- . , ! ? : \n",
    "##punctuation tokenization\n",
    "from nltk.tokenize import wordpunct_tokenize\n",
    "wordpunct_tokenize(corpus)"
   ]
  },
  {
   "cell_type": "code",
   "execution_count": 5,
   "id": "103a0f85",
   "metadata": {},
   "outputs": [
    {
     "data": {
      "text/plain": [
       "['In',\n",
       " 'December',\n",
       " '1928',\n",
       " ',',\n",
       " 'Bhagat',\n",
       " 'Singh',\n",
       " 'and',\n",
       " 'an',\n",
       " 'associate',\n",
       " ',',\n",
       " 'Shivaram',\n",
       " 'Rajguru',\n",
       " ',',\n",
       " 'both',\n",
       " 'members',\n",
       " 'of',\n",
       " 'a',\n",
       " 'small',\n",
       " 'revolutionary',\n",
       " 'group',\n",
       " ',',\n",
       " 'the',\n",
       " 'Hindustan',\n",
       " 'Socialist',\n",
       " 'Republican',\n",
       " 'Association',\n",
       " '(',\n",
       " 'also',\n",
       " 'Army',\n",
       " ',',\n",
       " 'or',\n",
       " 'HSRA',\n",
       " ')',\n",
       " ',',\n",
       " 'shot',\n",
       " 'dead',\n",
       " 'a',\n",
       " '21-year-old',\n",
       " 'British',\n",
       " 'police',\n",
       " 'officer',\n",
       " ',',\n",
       " 'John',\n",
       " 'Saunders',\n",
       " ',',\n",
       " 'in',\n",
       " 'Lahore',\n",
       " ',',\n",
       " 'Punjab',\n",
       " ',',\n",
       " 'in',\n",
       " 'what',\n",
       " 'is',\n",
       " 'today',\n",
       " 'Pakistan',\n",
       " ',',\n",
       " 'mistaking',\n",
       " 'Saunders',\n",
       " ',',\n",
       " 'who',\n",
       " 'was',\n",
       " 'still',\n",
       " 'on',\n",
       " 'probation',\n",
       " ',',\n",
       " 'for',\n",
       " 'the',\n",
       " 'British',\n",
       " 'senior',\n",
       " 'police',\n",
       " 'superintendent',\n",
       " ',',\n",
       " 'James',\n",
       " 'Scott',\n",
       " ',',\n",
       " 'whom',\n",
       " 'they',\n",
       " 'had',\n",
       " 'intended',\n",
       " 'to',\n",
       " 'assassinate',\n",
       " '.']"
      ]
     },
     "execution_count": 5,
     "metadata": {},
     "output_type": "execute_result"
    }
   ],
   "source": [
    "##treebank tokenization -- more acc\n",
    "from nltk.tokenize import TreebankWordTokenizer\n",
    "tokenizer = TreebankWordTokenizer()\n",
    "tokenizer.tokenize(corpus)\n"
   ]
  },
  {
   "cell_type": "code",
   "execution_count": null,
   "id": "237ff4b6",
   "metadata": {},
   "outputs": [],
   "source": []
  },
  {
   "cell_type": "code",
   "execution_count": null,
   "id": "7e62c933",
   "metadata": {},
   "outputs": [],
   "source": []
  },
  {
   "cell_type": "code",
   "execution_count": null,
   "id": "44215465",
   "metadata": {},
   "outputs": [],
   "source": []
  },
  {
   "cell_type": "code",
   "execution_count": null,
   "id": "9d01d138",
   "metadata": {},
   "outputs": [],
   "source": []
  }
 ],
 "metadata": {
  "kernelspec": {
   "display_name": "Python 3",
   "language": "python",
   "name": "python3"
  },
  "language_info": {
   "codemirror_mode": {
    "name": "ipython",
    "version": 3
   },
   "file_extension": ".py",
   "mimetype": "text/x-python",
   "name": "python",
   "nbconvert_exporter": "python",
   "pygments_lexer": "ipython3",
   "version": "3.11.9"
  }
 },
 "nbformat": 4,
 "nbformat_minor": 5
}
