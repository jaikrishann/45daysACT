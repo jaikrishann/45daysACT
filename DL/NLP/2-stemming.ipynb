{
 "cells": [
  {
   "cell_type": "code",
   "execution_count": null,
   "id": "bb0d221b",
   "metadata": {},
   "outputs": [],
   "source": [
    "#stemming -- work of this is to reduce the word to its root word\n",
    "## plays , playing , played -- play\n",
    "## runs , running , run -- run"
   ]
  },
  {
   "cell_type": "code",
   "execution_count": 4,
   "id": "ad8fe8bb",
   "metadata": {},
   "outputs": [],
   "source": [
    "words = [\"plays\", \"playing\", \"played\",\n",
    "          \"run\", \"runs\", \"running\",\"happened\",\n",
    "            \"happening\", \"happen\",\"history\",]"
   ]
  },
  {
   "cell_type": "code",
   "execution_count": 5,
   "id": "004c9926",
   "metadata": {},
   "outputs": [
    {
     "name": "stdout",
     "output_type": "stream",
     "text": [
      "plays ------> play\n",
      "playing ------> play\n",
      "played ------> play\n",
      "run ------> run\n",
      "runs ------> run\n",
      "running ------> run\n",
      "happened ------> happen\n",
      "happening ------> happen\n",
      "happen ------> happen\n",
      "history ------> histori\n"
     ]
    }
   ],
   "source": [
    "##porterstemmer-- \n",
    "#the output word may not be always be a valid english word \n",
    "from nltk.stem import PorterStemmer\n",
    "ps = PorterStemmer()\n",
    "\n",
    "for word in words:\n",
    "    print(word,\"------>\",ps.stem(word))"
   ]
  },
  {
   "cell_type": "code",
   "execution_count": 6,
   "id": "817ff7eb",
   "metadata": {},
   "outputs": [
    {
     "name": "stdout",
     "output_type": "stream",
     "text": [
      "plays ------> play\n",
      "playing ------> play\n",
      "played ------> played\n",
      "run ------> run\n",
      "runs ------> run\n",
      "running ------> runn\n",
      "happened ------> happened\n",
      "happening ------> happen\n",
      "happen ------> happen\n",
      "history ------> history\n"
     ]
    }
   ],
   "source": [
    "##regex stemmer--regex is a pattern matching language\n",
    "# \n",
    "from nltk.stem import RegexpStemmer\n",
    "rs = RegexpStemmer(\"ing$|s$|e$|able$|ible$\")\n",
    "for word in words:\n",
    "    print(word,\"------>\",rs.stem(word)) "
   ]
  },
  {
   "cell_type": "code",
   "execution_count": 7,
   "id": "a1852a46",
   "metadata": {},
   "outputs": [
    {
     "name": "stdout",
     "output_type": "stream",
     "text": [
      "plays ------> play\n",
      "playing ------> play\n",
      "played ------> play\n",
      "run ------> run\n",
      "runs ------> run\n",
      "running ------> run\n",
      "happened ------> happen\n",
      "happening ------> happen\n",
      "happen ------> happen\n",
      "history ------> histori\n"
     ]
    }
   ],
   "source": [
    "##snowballstemmer -- updated version of porterstemmer\n",
    "from nltk.stem import SnowballStemmer\n",
    "ss = SnowballStemmer(\"english\")\n",
    "for word in words:  \n",
    "    print(word,\"------>\",ss.stem(word))"
   ]
  },
  {
   "cell_type": "code",
   "execution_count": null,
   "id": "1b58dd3d",
   "metadata": {},
   "outputs": [],
   "source": []
  },
  {
   "cell_type": "code",
   "execution_count": null,
   "id": "e0679f03",
   "metadata": {},
   "outputs": [],
   "source": []
  }
 ],
 "metadata": {
  "kernelspec": {
   "display_name": "Python 3",
   "language": "python",
   "name": "python3"
  },
  "language_info": {
   "codemirror_mode": {
    "name": "ipython",
    "version": 3
   },
   "file_extension": ".py",
   "mimetype": "text/x-python",
   "name": "python",
   "nbconvert_exporter": "python",
   "pygments_lexer": "ipython3",
   "version": "3.11.9"
  }
 },
 "nbformat": 4,
 "nbformat_minor": 5
}
