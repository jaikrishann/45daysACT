{
 "cells": [
  {
   "cell_type": "code",
   "execution_count": null,
   "id": "3fff4f4b",
   "metadata": {},
   "outputs": [],
   "source": [
    "##function is a block of code that is used to do repeated task and it will execute \n",
    "# only when it is called\n",
    "##2 types of functions\n",
    "##1. user defined functions\n",
    "##2. built in functions"
   ]
  },
  {
   "cell_type": "code",
   "execution_count": null,
   "id": "900ff980",
   "metadata": {},
   "outputs": [
    {
     "name": "stdout",
     "output_type": "stream",
     "text": [
      "hello from the function\n"
     ]
    }
   ],
   "source": [
    "##user defined functions\n",
    "def hello():\n",
    "    #block of code \n",
    "    print(\"hello from the function\")\n",
    "\n",
    "hello() ##calling a function "
   ]
  },
  {
   "cell_type": "code",
   "execution_count": 3,
   "id": "03ae9ed9",
   "metadata": {},
   "outputs": [
    {
     "name": "stdout",
     "output_type": "stream",
     "text": [
      "30\n"
     ]
    }
   ],
   "source": [
    "def addd():\n",
    "    a = 10 \n",
    "    b = 20 \n",
    "    c = a+b \n",
    "    print(c)\n",
    "    \n",
    "addd()"
   ]
  },
  {
   "cell_type": "code",
   "execution_count": 8,
   "id": "256eb8c4",
   "metadata": {},
   "outputs": [
    {
     "name": "stdout",
     "output_type": "stream",
     "text": [
      "127460412029\n"
     ]
    }
   ],
   "source": [
    "##parameter and argument\n",
    "def addd(a,b):\n",
    "    print(a+b)\n",
    "\n",
    "addd(78238217,127382173812)"
   ]
  },
  {
   "cell_type": "code",
   "execution_count": 13,
   "id": "d4350eea",
   "metadata": {},
   "outputs": [
    {
     "name": "stdout",
     "output_type": "stream",
     "text": [
      "the youngest child is ram\n"
     ]
    }
   ],
   "source": [
    "##arbitary arguments  --- args -- *\n",
    "def child(*kids):\n",
    "    print(\"the youngest child is \" + kids[2])\n",
    "\n",
    "child(\"mohan\",\"rohan\",\"ram\")"
   ]
  },
  {
   "cell_type": "code",
   "execution_count": null,
   "id": "84ab94d6",
   "metadata": {},
   "outputs": [],
   "source": [
    "##keyword arguments -- \n",
    "def child(child1,child2,child3):\n",
    "    print(\"the youngest child is \" + child3)\n",
    "\n",
    "child(child3=\"mohan\",child2=\"rohan\",child1=\"ram\")\n"
   ]
  },
  {
   "cell_type": "code",
   "execution_count": 16,
   "id": "7e981d39",
   "metadata": {},
   "outputs": [
    {
     "name": "stdout",
     "output_type": "stream",
     "text": [
      "the youngest child is mohan\n"
     ]
    }
   ],
   "source": [
    "#arbitary keyword arguments -- **kwargs\n",
    "\n",
    "def child(**kids):\n",
    "    print(\"the youngest child is \" + kids[\"child3\"])\n",
    "\n",
    "child(child3=\"mohan\",child2=\"rohan\",child1=\"ram\")"
   ]
  },
  {
   "cell_type": "code",
   "execution_count": 19,
   "id": "76e59cff",
   "metadata": {},
   "outputs": [
    {
     "name": "stdout",
     "output_type": "stream",
     "text": [
      "my hobby is cricket\n",
      "my hobby is coding\n"
     ]
    }
   ],
   "source": [
    "##default parameter value\n",
    "def hobby(name=\"coding\"):\n",
    "    print(\"my hobby is \" + name)\n",
    "\n",
    "hobby(\"cricket\")\n",
    "hobby()"
   ]
  },
  {
   "cell_type": "code",
   "execution_count": null,
   "id": "4ef5e7ad",
   "metadata": {},
   "outputs": [
    {
     "name": "stdout",
     "output_type": "stream",
     "text": [
      "mohan\n",
      "rohan\n",
      "ram\n"
     ]
    }
   ],
   "source": [
    "#passing list as an argument\n",
    "def lst(name):\n",
    "    for i in name:\n",
    "        print(i)\n",
    "\n",
    "lst([\"mohan\",\"rohan\",\"ram\"])\n"
   ]
  },
  {
   "cell_type": "code",
   "execution_count": 23,
   "id": "9bc5bde8",
   "metadata": {},
   "outputs": [
    {
     "name": "stdout",
     "output_type": "stream",
     "text": [
      "3.0\n"
     ]
    }
   ],
   "source": [
    "##avg function\n",
    "def avgg(name):\n",
    "    print(sum(name)/len(name))\n",
    "\n",
    "avgg([1,2,3,4,5])"
   ]
  },
  {
   "cell_type": "code",
   "execution_count": null,
   "id": "b376c324",
   "metadata": {},
   "outputs": [],
   "source": [
    "##lambda function --- small anonymous functions\n",
    "##lambda arguments : expression"
   ]
  },
  {
   "cell_type": "code",
   "execution_count": 5,
   "id": "ee34878b",
   "metadata": {},
   "outputs": [
    {
     "data": {
      "text/plain": [
       "25"
      ]
     },
     "execution_count": 5,
     "metadata": {},
     "output_type": "execute_result"
    }
   ],
   "source": [
    "x = lambda a : a*a\n",
    "x(5)"
   ]
  },
  {
   "cell_type": "code",
   "execution_count": 11,
   "id": "572e7eee",
   "metadata": {},
   "outputs": [
    {
     "name": "stdout",
     "output_type": "stream",
     "text": [
      "[1, 4, 9, 16, 25]\n"
     ]
    }
   ],
   "source": [
    "##map --- map(function,iterable)\n",
    "# def sq(num):\n",
    "#     return num*num\n",
    "\n",
    "lst = [1,2,3,4,5]\n",
    "result = map(lambda num : num*num,lst)\n",
    "print(list(result))"
   ]
  },
  {
   "cell_type": "code",
   "execution_count": 2,
   "id": "db239c44",
   "metadata": {},
   "outputs": [
    {
     "name": "stdout",
     "output_type": "stream",
     "text": [
      "[2, 4]\n"
     ]
    }
   ],
   "source": [
    "##filter --- filter(function,iterable)\n",
    "lst = [1,2,3,4,5]\n",
    "result = filter(lambda num : num%2==0,lst)\n",
    "print(list(result))"
   ]
  },
  {
   "cell_type": "code",
   "execution_count": 3,
   "id": "4b692f78",
   "metadata": {},
   "outputs": [],
   "source": [
    "from functools import reduce "
   ]
  },
  {
   "cell_type": "code",
   "execution_count": 4,
   "id": "101c8ecb",
   "metadata": {},
   "outputs": [
    {
     "name": "stdout",
     "output_type": "stream",
     "text": [
      "15\n"
     ]
    }
   ],
   "source": [
    "##reduce \n",
    "\n",
    "\n",
    "lst = [1,2,3,4,5]\n",
    "result = reduce(lambda num1,num2 : num1+num2,lst)\n",
    "print(result)"
   ]
  },
  {
   "cell_type": "code",
   "execution_count": null,
   "id": "b61b83a1",
   "metadata": {},
   "outputs": [],
   "source": [
    "#ffrom left to right \n",
    "# [3,3,4,5] -- [6,4,5] -- [10,5] -- [15]"
   ]
  },
  {
   "cell_type": "code",
   "execution_count": 16,
   "id": "2abe4af7",
   "metadata": {},
   "outputs": [
    {
     "name": "stdout",
     "output_type": "stream",
     "text": [
      "[(10, 'mohan'), (11, 'rohan'), (12, 'ram')]\n"
     ]
    }
   ],
   "source": [
    "##enumerate\n",
    "lst = [\"mohan\",\"rohan\",\"ram\"]\n",
    "result = enumerate(lst,start=10)\n",
    "print(list(result))"
   ]
  },
  {
   "cell_type": "code",
   "execution_count": 19,
   "id": "1802e47e",
   "metadata": {},
   "outputs": [
    {
     "name": "stdout",
     "output_type": "stream",
     "text": [
      "[('mohan', 1), ('rohan', 2), ('ram', 3)]\n"
     ]
    }
   ],
   "source": [
    "##zip function -- it is used to combine two or more iterables\n",
    "lst1 = [\"mohan\",\"rohan\",\"ram\"]\n",
    "lst2 = [1,2,3]\n",
    "result = zip(lst1,lst2)\n",
    "print(list(result))"
   ]
  },
  {
   "cell_type": "code",
   "execution_count": 21,
   "id": "f5ea6ea3",
   "metadata": {},
   "outputs": [
    {
     "name": "stdout",
     "output_type": "stream",
     "text": [
      "['mohan', 'rohan', 'ram']\n",
      "[1, 2, 3]\n"
     ]
    }
   ],
   "source": [
    "zipped = [('mohan', 1), ('rohan', 2), ('ram', 3)]\n",
    "result ,number= zip(*zipped)\n",
    "print(list(result))\n",
    "print(list(number))"
   ]
  },
  {
   "cell_type": "code",
   "execution_count": null,
   "id": "36ddc5dc",
   "metadata": {},
   "outputs": [],
   "source": []
  }
 ],
 "metadata": {
  "kernelspec": {
   "display_name": "Python 3",
   "language": "python",
   "name": "python3"
  },
  "language_info": {
   "codemirror_mode": {
    "name": "ipython",
    "version": 3
   },
   "file_extension": ".py",
   "mimetype": "text/x-python",
   "name": "python",
   "nbconvert_exporter": "python",
   "pygments_lexer": "ipython3",
   "version": "3.11.9"
  }
 },
 "nbformat": 4,
 "nbformat_minor": 5
}
