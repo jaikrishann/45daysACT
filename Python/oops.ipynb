{
 "cells": [
  {
   "cell_type": "code",
   "execution_count": null,
   "id": "e54d0e0e",
   "metadata": {},
   "outputs": [],
   "source": [
    "##class , object , method\n",
    "##4 type of oops\n",
    "##inheritance --- single , multiple , multilevel , hyerarchial , hybrid\n",
    "#  , polymorphism , encapsulation "
   ]
  },
  {
   "cell_type": "code",
   "execution_count": null,
   "id": "71874bff",
   "metadata": {},
   "outputs": [],
   "source": [
    "##class - blueprint of object\n",
    "##object - instance of class"
   ]
  },
  {
   "cell_type": "code",
   "execution_count": 5,
   "id": "7b75485a",
   "metadata": {},
   "outputs": [
    {
     "data": {
      "text/plain": [
       "100"
      ]
     },
     "execution_count": 5,
     "metadata": {},
     "output_type": "execute_result"
    }
   ],
   "source": [
    "class Car:\n",
    "    ##class variable\n",
    "    num1 = 10 \n",
    "    num2 = 20 \n",
    "    name = \"abc\"\n",
    "    model = \"xyz\"\n",
    "\n",
    "    # function vs method\n",
    "    #self\n",
    "    def add(self):\n",
    "        return self.num1 + self.num2\n",
    "    \n",
    "    def display(self):\n",
    "        return self.name , self.model\n",
    "    \n",
    "#obj == \n",
    "obj =Car()\n",
    "# obj.display()\n",
    "obj.num1 = 100\n",
    "obj.num1"
   ]
  },
  {
   "cell_type": "code",
   "execution_count": null,
   "id": "d7aa79eb",
   "metadata": {},
   "outputs": [
    {
     "data": {
      "text/plain": [
       "('lion', 10)"
      ]
     },
     "execution_count": 1,
     "metadata": {},
     "output_type": "execute_result"
    }
   ],
   "source": [
    "##init -- constructor -- initialize the variable\n",
    "class animal:\n",
    "    def __init__(self,n,a):\n",
    "       ##instance variable\n",
    "       self.name = n\n",
    "       self.age = a\n",
    "\n",
    "    def display(self):\n",
    "        return self.name , self.age\n",
    "    \n",
    "obj = animal(\"lion\",10)\n",
    "obj.display()\n"
   ]
  },
  {
   "cell_type": "code",
   "execution_count": 9,
   "id": "7a50ee0d",
   "metadata": {},
   "outputs": [
    {
     "name": "stdout",
     "output_type": "stream",
     "text": [
      "car\n",
      "bike\n"
     ]
    }
   ],
   "source": [
    "##inheritance -- single , multiple , multilevel , hyerarchial , hybrid\n",
    "\n",
    "#single inheritance \n",
    "class Car:\n",
    "    def display(self):\n",
    "        return \"car\"\n",
    "class bike(Car):\n",
    "    def show(self):\n",
    "        return \"bike\"    \n",
    "    \n",
    "obj = bike()\n",
    "print(obj.display())\n",
    "print(obj.show())\n"
   ]
  },
  {
   "cell_type": "code",
   "execution_count": 13,
   "id": "9e3e3e0f",
   "metadata": {},
   "outputs": [
    {
     "data": {
      "text/plain": [
       "'abc'"
      ]
     },
     "execution_count": 13,
     "metadata": {},
     "output_type": "execute_result"
    }
   ],
   "source": [
    "class person:\n",
    "    def __init__(self,name):\n",
    "        self.name = name \n",
    "\n",
    "    def show(self):\n",
    "        return self.name\n",
    "\n",
    "class employee(person):\n",
    "    def __init__(self,name,salary):\n",
    "        super().__init__(name)\n",
    "        self.salary = salary\n",
    "\n",
    "\n",
    "obj  = employee(\"abc\",1000)\n",
    "obj.show()\n"
   ]
  },
  {
   "cell_type": "code",
   "execution_count": null,
   "id": "f053843f",
   "metadata": {},
   "outputs": [],
   "source": [
    "##multiple inheitance -- parent class is more than one child class \n",
    "class person:\n",
    "    def __init__(self,name):\n",
    "        self.name = name \n",
    "\n",
    "    def show(self):\n",
    "        return self.name\n",
    "\n",
    "class employee(person):\n",
    "    def __init__(self,name,salary):\n",
    "        super().__init__(name)\n",
    "        self.salary = salary\n",
    "\n",
    "class Job:\n",
    "    def __init__(self,salary):\n",
    "        self.salary = salary\n",
    "\n",
    "class Employeepersonjob(employee,Job):\n",
    "    def __init__(self,name,salary):\n",
    "        employee.__init__(self,name,salary)\n",
    "        Job.__init__(self,salary)"
   ]
  },
  {
   "cell_type": "code",
   "execution_count": null,
   "id": "ba00708a",
   "metadata": {},
   "outputs": [],
   "source": [
    "#multilevel -- A----B---C"
   ]
  },
  {
   "cell_type": "code",
   "execution_count": 14,
   "id": "b7bcb8c2",
   "metadata": {},
   "outputs": [
    {
     "name": "stdout",
     "output_type": "stream",
     "text": [
      "meow\n",
      "bark\n"
     ]
    }
   ],
   "source": [
    "##polymorphism --- many forms --- the same function or method behave differently based \n",
    "#on the input \n",
    "\n",
    "class Cat:\n",
    "    def sound(self):\n",
    "        return \"meow\"\n",
    "\n",
    "class Dog:\n",
    "    def sound(self):\n",
    "        return \"bark\"\n",
    "\n",
    "def make_sound(animal):\n",
    "    return animal.sound()\n",
    "\n",
    "cat = Cat()\n",
    "dog = Dog()\n",
    "\n",
    "\n",
    "\n",
    "print(make_sound(cat))\n",
    "print(make_sound(dog))"
   ]
  },
  {
   "cell_type": "code",
   "execution_count": 16,
   "id": "6cf36a06",
   "metadata": {},
   "outputs": [
    {
     "name": "stdout",
     "output_type": "stream",
     "text": [
      "200\n",
      "78.5\n"
     ]
    }
   ],
   "source": [
    "class shape:\n",
    "    def area(self):\n",
    "        pass\n",
    "\n",
    "class rectangle(shape):\n",
    "    def __init__(self,length,breadth):\n",
    "        self.length = length\n",
    "        self.breadth = breadth\n",
    "    def area(self):\n",
    "        return self.length * self.breadth\n",
    "    \n",
    "class circle(shape):\n",
    "    def __init__(self,radius):\n",
    "        self.radius = radius\n",
    "    def area(self):\n",
    "        return 3.14 * self.radius * self.radius\n",
    "    \n",
    "def calculate_area(shape):\n",
    "    return shape.area()\n",
    "\n",
    "rectangle = rectangle(10,20)\n",
    "circle = circle(5)\n",
    "\n",
    "print(calculate_area(rectangle))\n",
    "print(calculate_area(circle))\n",
    "\n"
   ]
  },
  {
   "cell_type": "code",
   "execution_count": null,
   "id": "088c0719",
   "metadata": {},
   "outputs": [],
   "source": [
    "##encapsulation\n",
    "##it means hiding the internal details of a class and \n",
    "##protecting data from being access or modified directly by the \n",
    "# outside world\n",
    "##we can do it by using private and protected variable\n",
    "##private variable -- __name\n",
    "##cannot be accessible outside the class\n",
    "\n",
    "\n",
    "##protected variable -- _name \n",
    "##it can be accessible inside the class and its subclasses\n"
   ]
  },
  {
   "cell_type": "code",
   "execution_count": 22,
   "id": "c9842a50",
   "metadata": {},
   "outputs": [
    {
     "data": {
      "text/plain": [
       "50"
      ]
     },
     "execution_count": 22,
     "metadata": {},
     "output_type": "execute_result"
    }
   ],
   "source": [
    "class student:\n",
    "    def __init__(self,name,marks):\n",
    "        self.name = name\n",
    "        self.__marks = marks\n",
    "    \n",
    "    def get_marks(self):\n",
    "        return self.__marks\n",
    "    \n",
    "    def set_marks(self,marks):\n",
    "        if 0 <= marks <= 100:\n",
    "            self.__marks = marks\n",
    "        else:\n",
    "            print(\"Invalid marks\")\n",
    "        \n",
    "s = student(\"abc\",50)\n",
    "##name mangling\n",
    "s._student__marks"
   ]
  },
  {
   "cell_type": "code",
   "execution_count": null,
   "id": "d7ee33f1",
   "metadata": {},
   "outputs": [],
   "source": []
  }
 ],
 "metadata": {
  "kernelspec": {
   "display_name": "Python 3",
   "language": "python",
   "name": "python3"
  },
  "language_info": {
   "codemirror_mode": {
    "name": "ipython",
    "version": 3
   },
   "file_extension": ".py",
   "mimetype": "text/x-python",
   "name": "python",
   "nbconvert_exporter": "python",
   "pygments_lexer": "ipython3",
   "version": "3.11.9"
  }
 },
 "nbformat": 4,
 "nbformat_minor": 5
}
