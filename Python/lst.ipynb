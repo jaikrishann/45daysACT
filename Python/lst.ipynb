{
 "cells": [
  {
   "cell_type": "markdown",
   "id": "5be5bd0d",
   "metadata": {},
   "source": [
    "# List "
   ]
  },
  {
   "cell_type": "code",
   "execution_count": 1,
   "id": "2db7c595",
   "metadata": {},
   "outputs": [
    {
     "name": "stdout",
     "output_type": "stream",
     "text": [
      "hello world\n"
     ]
    }
   ],
   "source": [
    "print(\"hello world\")"
   ]
  },
  {
   "cell_type": "code",
   "execution_count": null,
   "id": "cfb3d532",
   "metadata": {},
   "outputs": [],
   "source": [
    "##list-- ordered,mutable,allow duplicates values , heterogenous \n",
    "##list - []"
   ]
  },
  {
   "cell_type": "code",
   "execution_count": 2,
   "id": "3c0199fd",
   "metadata": {},
   "outputs": [
    {
     "name": "stdout",
     "output_type": "stream",
     "text": [
      "[1, 2, 'hello', True, 33.23, 'hello']\n",
      "<class 'list'>\n"
     ]
    }
   ],
   "source": [
    "lst = [1,2,\"hello\",True,33.23,\"hello\"]\n",
    "print(lst)\n",
    "print(type(lst))"
   ]
  },
  {
   "cell_type": "code",
   "execution_count": 20,
   "id": "a53eb687",
   "metadata": {},
   "outputs": [
    {
     "name": "stdout",
     "output_type": "stream",
     "text": [
      "['white', 'hello', 'black', 'green', 'blue']\n"
     ]
    }
   ],
   "source": [
    "lst = [\"red\",\"black\",\"green\",\"blue\"]\n",
    "lst[0:1] = [\"white\",\"hello\"]\n",
    "print(lst)"
   ]
  },
  {
   "cell_type": "code",
   "execution_count": 25,
   "id": "7e2d9f8f",
   "metadata": {},
   "outputs": [],
   "source": [
    "#update 60 to 6000\n",
    "lst = [10,20,[30,40,[50,60],70],80]\n",
    "lst[2][2][1] = 6000\n"
   ]
  },
  {
   "cell_type": "code",
   "execution_count": null,
   "id": "3e4b542b",
   "metadata": {},
   "outputs": [
    {
     "data": {
      "text/plain": [
       "['red', 'blue', 'green', 'black']"
      ]
     },
     "execution_count": 40,
     "metadata": {},
     "output_type": "execute_result"
    }
   ],
   "source": [
    "lst = [\"black\",\"green\",\"blue\",\"red\"]\n",
    "# lst.count(\"red\")\n",
    "# lst.index(\"red\")\n",
    "# lst2=lst.copy()\n",
    "# lst2\n",
    "# lst.clear()    #clear vs del \n",
    "# del lst\n",
    "# lst.insert(2,\"white\")\n",
    "# lst.append(\"white\")\n",
    "# lst.extend([\"white\",\"black\"])\n",
    "# lst.remove(\"black\")\n",
    "# lst.pop(1)\n",
    "# lst.reverse()\n",
    "# lst.sort(reverse=True)\n",
    "\n",
    "# lst[::-1]"
   ]
  },
  {
   "cell_type": "code",
   "execution_count": null,
   "id": "9c21f4c5",
   "metadata": {},
   "outputs": [],
   "source": []
  }
 ],
 "metadata": {
  "kernelspec": {
   "display_name": "Python 3",
   "language": "python",
   "name": "python3"
  },
  "language_info": {
   "codemirror_mode": {
    "name": "ipython",
    "version": 3
   },
   "file_extension": ".py",
   "mimetype": "text/x-python",
   "name": "python",
   "nbconvert_exporter": "python",
   "pygments_lexer": "ipython3",
   "version": "3.11.9"
  }
 },
 "nbformat": 4,
 "nbformat_minor": 5
}
