{
 "cells": [
  {
   "cell_type": "code",
   "execution_count": null,
   "id": "41383f10",
   "metadata": {},
   "outputs": [],
   "source": [
    "##sets - {}\n",
    "##unordered ,unindexed ,no duplicates"
   ]
  },
  {
   "cell_type": "code",
   "execution_count": 4,
   "id": "7966a8ba",
   "metadata": {},
   "outputs": [
    {
     "name": "stdout",
     "output_type": "stream",
     "text": [
      "{True, 2, 3, 'hello'}\n",
      "<class 'set'>\n"
     ]
    }
   ],
   "source": [
    "st = {3,2,\"hello\",True,\"hello\",1}\n",
    "print(st)\n",
    "print(type(st))\n"
   ]
  },
  {
   "cell_type": "code",
   "execution_count": null,
   "id": "3236992a",
   "metadata": {},
   "outputs": [
    {
     "name": "stdout",
     "output_type": "stream",
     "text": [
      "{2, 3, 4, 5, 'python'}\n"
     ]
    }
   ],
   "source": [
    "# st.add(\"python\")\n",
    "# st.update([1,2,3,4,5])\n",
    "# st.remove(\"java\")\n",
    "# st.pop()\n",
    "# st.discard(\"java\")\n",
    "\n",
    "print(st)"
   ]
  },
  {
   "cell_type": "code",
   "execution_count": null,
   "id": "58462b2a",
   "metadata": {},
   "outputs": [
    {
     "name": "stdout",
     "output_type": "stream",
     "text": [
      "{3}\n"
     ]
    }
   ],
   "source": [
    "a = {1,2,3}\n",
    "b = {3,4,5}\n",
    "# print(a.union(b))\n",
    "# print(a.intersection(b))\n",
    "# ##difference \n",
    "# #return the elements infirst set  that are not in second set\n",
    "# print(a.difference(b))\n",
    "# print(b.difference(a))\n",
    "# ##symmetric difference\n",
    "# #return the elemnts in either set but not both\n",
    "# print(a.symmetric_difference(b))\n",
    "# ##subset \n",
    "# ##check if all the elemnts of one set are in another \n",
    "# print(a.issubset(b))\n",
    "# # print(b.issubset(a))\n",
    "# ##superset --check if one set contains all the\n",
    "# #  elements of another\n",
    "# print(a.issuperset(b))\n",
    "# print(b.issuperset(a))\n",
    "##disjoint --check if two sets have no common elements\n",
    "# print(a.isdisjoint(b))\n",
    "\n",
    "##intersection_update \n",
    "#update the set with the intersection of itself and another\n",
    "a.intersection_update(b)\n",
    "print(a)\n",
    "##difference_update\n",
    "#update the set with the difference of itself and another\n",
    "# a.difference_update(b)\n",
    "# print(a)\n",
    "##symmetric_difference_update\n",
    "#update the set with the symmetric difference of itself and another\n",
    "# a.symmetric_difference_update(b)\n",
    "# print(a)\n",
    "a."
   ]
  },
  {
   "cell_type": "code",
   "execution_count": null,
   "id": "08dd8919",
   "metadata": {},
   "outputs": [],
   "source": []
  },
  {
   "cell_type": "code",
   "execution_count": null,
   "id": "6aff6880",
   "metadata": {},
   "outputs": [],
   "source": []
  }
 ],
 "metadata": {
  "kernelspec": {
   "display_name": "Python 3",
   "language": "python",
   "name": "python3"
  },
  "language_info": {
   "codemirror_mode": {
    "name": "ipython",
    "version": 3
   },
   "file_extension": ".py",
   "mimetype": "text/x-python",
   "name": "python",
   "nbconvert_exporter": "python",
   "pygments_lexer": "ipython3",
   "version": "3.11.9"
  }
 },
 "nbformat": 4,
 "nbformat_minor": 5
}
