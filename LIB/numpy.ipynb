{
 "cells": [
  {
   "cell_type": "code",
   "execution_count": null,
   "id": "a9d3a7cd",
   "metadata": {},
   "outputs": [
    {
     "data": {
      "text/plain": [
       "'1.26.4'"
      ]
     },
     "execution_count": 1,
     "metadata": {},
     "output_type": "execute_result"
    }
   ],
   "source": [
    "# check numpy version\n",
    "import numpy as np\n",
    "#1d , 2d , 3d ,\n",
    "# np.__version__\n"
   ]
  },
  {
   "cell_type": "code",
   "execution_count": 79,
   "id": "77311d03",
   "metadata": {},
   "outputs": [
    {
     "data": {
      "text/plain": [
       "array([[[[[[1, 2, 3, 4, 5]]]]]])"
      ]
     },
     "execution_count": 79,
     "metadata": {},
     "output_type": "execute_result"
    }
   ],
   "source": [
    "# lst = \n",
    "# ar1 = np.array([1,2,\"3\",4,5])\n",
    "ar1 = np.array([1,2,3,4,5],ndmin=6)\n",
    "\n",
    "ar1\n",
    "# print(type(ar1))"
   ]
  },
  {
   "cell_type": "code",
   "execution_count": 10,
   "metadata": {},
   "outputs": [
    {
     "data": {
      "text/plain": [
       "array([1, 2, 3, 4, 5, 6, 7, 8, 9])"
      ]
     },
     "execution_count": 10,
     "metadata": {},
     "output_type": "execute_result"
    }
   ],
   "source": [
    "##when you have to create an array in a range\n",
    "ar2 = np.arange(1,10)\n",
    "ar2 "
   ]
  },
  {
   "cell_type": "code",
   "execution_count": 13,
   "id": "7145af54",
   "metadata": {},
   "outputs": [
    {
     "data": {
      "text/plain": [
       "array([1., 1., 1., 1., 1.])"
      ]
     },
     "execution_count": 13,
     "metadata": {},
     "output_type": "execute_result"
    }
   ],
   "source": [
    "arr3 = np.ones(5)\n",
    "arr3"
   ]
  },
  {
   "cell_type": "code",
   "execution_count": 15,
   "id": "5fc89e40",
   "metadata": {},
   "outputs": [
    {
     "data": {
      "text/plain": [
       "array([[0., 0., 0.],\n",
       "       [0., 0., 0.]])"
      ]
     },
     "execution_count": 15,
     "metadata": {},
     "output_type": "execute_result"
    }
   ],
   "source": [
    "arr4 = np.zeros((2,3))\n",
    "arr4"
   ]
  },
  {
   "cell_type": "code",
   "execution_count": 19,
   "id": "f3c74f87",
   "metadata": {},
   "outputs": [
    {
     "data": {
      "text/plain": [
       "array([ 0.        ,  0.40816327,  0.81632653,  1.2244898 ,  1.63265306,\n",
       "        2.04081633,  2.44897959,  2.85714286,  3.26530612,  3.67346939,\n",
       "        4.08163265,  4.48979592,  4.89795918,  5.30612245,  5.71428571,\n",
       "        6.12244898,  6.53061224,  6.93877551,  7.34693878,  7.75510204,\n",
       "        8.16326531,  8.57142857,  8.97959184,  9.3877551 ,  9.79591837,\n",
       "       10.20408163, 10.6122449 , 11.02040816, 11.42857143, 11.83673469,\n",
       "       12.24489796, 12.65306122, 13.06122449, 13.46938776, 13.87755102,\n",
       "       14.28571429, 14.69387755, 15.10204082, 15.51020408, 15.91836735,\n",
       "       16.32653061, 16.73469388, 17.14285714, 17.55102041, 17.95918367,\n",
       "       18.36734694, 18.7755102 , 19.18367347, 19.59183673, 20.        ])"
      ]
     },
     "execution_count": 19,
     "metadata": {},
     "output_type": "execute_result"
    }
   ],
   "source": [
    "arr5 = np.linspace(0,20,50)\n",
    "arr5"
   ]
  },
  {
   "cell_type": "code",
   "execution_count": 22,
   "id": "10a16898",
   "metadata": {},
   "outputs": [
    {
     "data": {
      "text/plain": [
       "array([[ 1,  2,  3,  4,  5,  6],\n",
       "       [ 7,  8,  9, 10, 11, 12],\n",
       "       [13, 14, 15, 16, 17, 18],\n",
       "       [19, 20, 21, 22, 23, 24],\n",
       "       [25, 26, 27, 28, 29, 30]])"
      ]
     },
     "execution_count": 22,
     "metadata": {},
     "output_type": "execute_result"
    }
   ],
   "source": [
    "##\n",
    "arr6 = np.arange(1,31).reshape(5,6)\n",
    "arr6"
   ]
  },
  {
   "cell_type": "code",
   "execution_count": 26,
   "id": "d9804b5f",
   "metadata": {},
   "outputs": [
    {
     "data": {
      "text/plain": [
       "array([0.04494289, 0.15786924, 0.24984529, 0.02269956, 0.54178852,\n",
       "       0.49759205, 0.04528527, 0.4853923 , 0.44033829, 0.51131519])"
      ]
     },
     "execution_count": 26,
     "metadata": {},
     "output_type": "execute_result"
    }
   ],
   "source": [
    "# arr7 = np.random.randint(1,100,10)\n",
    "arr7 = np.random.random(10)\n",
    "arr7"
   ]
  },
  {
   "cell_type": "code",
   "execution_count": 38,
   "id": "4458704c",
   "metadata": {},
   "outputs": [
    {
     "name": "stdout",
     "output_type": "stream",
     "text": [
      "(12, 5)\n"
     ]
    },
    {
     "data": {
      "text/plain": [
       "(5, 12)"
      ]
     },
     "execution_count": 38,
     "metadata": {},
     "output_type": "execute_result"
    }
   ],
   "source": [
    "arr8 = np.arange(60).reshape((12,5))\n",
    "print(arr8.shape)\n",
    "# arr8.dtype\n",
    "# arr8.size\n",
    "# arr8.ndim\n",
    "arr9 = arr8.T.shape\n",
    "arr9"
   ]
  },
  {
   "cell_type": "code",
   "execution_count": 33,
   "id": "d919a429",
   "metadata": {},
   "outputs": [
    {
     "data": {
      "text/plain": [
       "array([ 0,  1,  2,  3,  4,  5,  6,  7,  8,  9, 10, 11, 12, 13, 14, 15, 16,\n",
       "       17, 18, 19, 20, 21, 22, 23, 24, 25, 26, 27, 28, 29, 30, 31, 32, 33,\n",
       "       34, 35, 36, 37, 38, 39, 40, 41, 42, 43, 44, 45, 46, 47, 48, 49, 50,\n",
       "       51, 52, 53, 54, 55, 56, 57, 58, 59])"
      ]
     },
     "execution_count": 33,
     "metadata": {},
     "output_type": "execute_result"
    }
   ],
   "source": [
    "#mutlidimension array convert 1d \n",
    "arr8.ravel()\n",
    "# arr8.flatten()"
   ]
  },
  {
   "cell_type": "code",
   "execution_count": 41,
   "id": "3df7a588",
   "metadata": {},
   "outputs": [
    {
     "data": {
      "text/plain": [
       "array([[ 0,  1,  2,  3,  4],\n",
       "       [ 5,  6,  7,  8,  9],\n",
       "       [10, 11, 12, 13, 14],\n",
       "       [15, 16, 17, 18, 19],\n",
       "       [20, 21, 22, 23, 24],\n",
       "       [25, 26, 27, 28, 29],\n",
       "       [30, 31, 32, 33, 34],\n",
       "       [35, 36, 37, 38, 39],\n",
       "       [40, 41, 42, 43, 44],\n",
       "       [45, 46, 47, 48, 49],\n",
       "       [50, 51, 52, 53, 54],\n",
       "       [55, 56, 57, 58, 59]])"
      ]
     },
     "execution_count": 41,
     "metadata": {},
     "output_type": "execute_result"
    }
   ],
   "source": [
    "###indexing and slicing \n",
    "##1d array\n",
    "##2d array -- [row start : rowend:rowskip, col start : col end : col skip]\n",
    "arr8"
   ]
  },
  {
   "cell_type": "code",
   "execution_count": 57,
   "id": "ef2caa53",
   "metadata": {},
   "outputs": [
    {
     "data": {
      "text/plain": [
       "49"
      ]
     },
     "execution_count": 57,
     "metadata": {},
     "output_type": "execute_result"
    }
   ],
   "source": [
    "# arr8[3:4,2:3] = 100\n",
    "arr8[9:10,4:5][0][0]"
   ]
  },
  {
   "cell_type": "code",
   "execution_count": 59,
   "id": "9df4c756",
   "metadata": {},
   "outputs": [
    {
     "data": {
      "text/plain": [
       "array([[ 59,  58,  57,  56,  55],\n",
       "       [ 54,  53,  52,  51,  50],\n",
       "       [ 49,  48,  47,  46,  45],\n",
       "       [ 44,  43,  42,  41,  40],\n",
       "       [ 39,  38,  37,  36,  35],\n",
       "       [ 34,  33,  32,  31,  30],\n",
       "       [ 29,  28,  27,  26,  25],\n",
       "       [ 24,  23,  22,  21,  20],\n",
       "       [ 19,  18, 100,  16,  15],\n",
       "       [ 14,  13,  12,  11,  10],\n",
       "       [  9,   8,   7,   6,   5],\n",
       "       [  4,   3,   2,   1,   0]])"
      ]
     },
     "execution_count": 59,
     "metadata": {},
     "output_type": "execute_result"
    }
   ],
   "source": [
    "arr8[::-1,::-1]"
   ]
  },
  {
   "cell_type": "code",
   "execution_count": 62,
   "id": "e3ad002c",
   "metadata": {},
   "outputs": [
    {
     "data": {
      "text/plain": [
       "array([[[  0,   1,   2,   3,   4],\n",
       "        [  5,   6,   7,   8,   9],\n",
       "        [ 10,  11,  12,  13,  14],\n",
       "        [ 15,  16,  17,  18,  19],\n",
       "        [ 20,  21,  22,  23,  24],\n",
       "        [ 25,  26,  27,  28,  29],\n",
       "        [ 30,  31,  32,  33,  34],\n",
       "        [ 35,  36,  37,  38,  39],\n",
       "        [ 40,  41,  42,  43,  44],\n",
       "        [ 45,  46,  47,  48,  49],\n",
       "        [ 50,  51,  52,  53,  54],\n",
       "        [ 55,  56,  57,  58,  59],\n",
       "        [ 60,  61,  62,  63,  64],\n",
       "        [ 65,  66,  67,  68,  69],\n",
       "        [ 70,  71,  72,  73,  74]],\n",
       "\n",
       "       [[ 75,  76,  77,  78,  79],\n",
       "        [ 80,  81,  82,  83,  84],\n",
       "        [ 85,  86,  87,  88,  89],\n",
       "        [ 90,  91,  92,  93,  94],\n",
       "        [ 95,  96,  97,  98,  99],\n",
       "        [100, 101, 102, 103, 104],\n",
       "        [105, 106, 107, 108, 109],\n",
       "        [110, 111, 112, 113, 114],\n",
       "        [115, 116, 117, 118, 119],\n",
       "        [120, 121, 122, 123, 124],\n",
       "        [125, 126, 127, 128, 129],\n",
       "        [130, 131, 132, 133, 134],\n",
       "        [135, 136, 137, 138, 139],\n",
       "        [140, 141, 142, 143, 144],\n",
       "        [145, 146, 147, 148, 149]],\n",
       "\n",
       "       [[150, 151, 152, 153, 154],\n",
       "        [155, 156, 157, 158, 159],\n",
       "        [160, 161, 162, 163, 164],\n",
       "        [165, 166, 167, 168, 169],\n",
       "        [170, 171, 172, 173, 174],\n",
       "        [175, 176, 177, 178, 179],\n",
       "        [180, 181, 182, 183, 184],\n",
       "        [185, 186, 187, 188, 189],\n",
       "        [190, 191, 192, 193, 194],\n",
       "        [195, 196, 197, 198, 199],\n",
       "        [200, 201, 202, 203, 204],\n",
       "        [205, 206, 207, 208, 209],\n",
       "        [210, 211, 212, 213, 214],\n",
       "        [215, 216, 217, 218, 219],\n",
       "        [220, 221, 222, 223, 224]]])"
      ]
     },
     "execution_count": 62,
     "metadata": {},
     "output_type": "execute_result"
    }
   ],
   "source": [
    "##3d array\n",
    "arr10 = np.arange(225).reshape(3,15,5)\n",
    "arr10"
   ]
  },
  {
   "cell_type": "code",
   "execution_count": null,
   "metadata": {},
   "outputs": [],
   "source": [
    "##slicing in 3d array \n",
    "## syntax -\n",
    "#[table start : table end : table skip, row start : row end : row skip, col start : col end : col skip]"
   ]
  },
  {
   "cell_type": "code",
   "execution_count": 66,
   "metadata": {},
   "outputs": [
    {
     "data": {
      "text/plain": [
       "array([[[  7,   8],\n",
       "        [ 12,  13],\n",
       "        [ 17,  18]],\n",
       "\n",
       "       [[ 82,  83],\n",
       "        [ 87,  88],\n",
       "        [ 92,  93]],\n",
       "\n",
       "       [[157, 158],\n",
       "        [162, 163],\n",
       "        [167, 168]]])"
      ]
     },
     "execution_count": 66,
     "metadata": {},
     "output_type": "execute_result"
    }
   ],
   "source": [
    "arr10[0:,1:4,2:4]"
   ]
  },
  {
   "cell_type": "code",
   "execution_count": 72,
   "id": "f278caee",
   "metadata": {},
   "outputs": [
    {
     "data": {
      "text/plain": [
       "19.44830041131844"
      ]
     },
     "execution_count": 72,
     "metadata": {},
     "output_type": "execute_result"
    }
   ],
   "source": [
    "np.max(arr8)\n",
    "np.min(arr8)\n",
    "np.sum(arr8)\n",
    "np.mean(arr8)\n",
    "np.median(arr8)\n",
    "np.std(arr8)"
   ]
  },
  {
   "cell_type": "code",
   "execution_count": 73,
   "id": "57099e77",
   "metadata": {},
   "outputs": [],
   "source": [
    "arr8.sort()"
   ]
  },
  {
   "cell_type": "code",
   "execution_count": null,
   "id": "67f39551",
   "metadata": {},
   "outputs": [
    {
     "data": {
      "text/plain": [
       "array([ 4, 10,  2, 18])"
      ]
     },
     "execution_count": 78,
     "metadata": {},
     "output_type": "execute_result"
    }
   ],
   "source": [
    "arr11 = np.array([2,5,1,9])\n",
    "arr12 = np.array([2,5,1,9])\n",
    "# arr11.argsort()\n",
    "##2 5 1 9 \n",
    "##0 1 2 3\n",
    "\n",
    "arr11 * 2"
   ]
  },
  {
   "cell_type": "code",
   "execution_count": null,
   "id": "ad80678c",
   "metadata": {},
   "outputs": [],
   "source": []
  }
 ],
 "metadata": {
  "kernelspec": {
   "display_name": "Python 3",
   "language": "python",
   "name": "python3"
  },
  "language_info": {
   "codemirror_mode": {
    "name": "ipython",
    "version": 3
   },
   "file_extension": ".py",
   "mimetype": "text/x-python",
   "name": "python",
   "nbconvert_exporter": "python",
   "pygments_lexer": "ipython3",
   "version": "3.11.9"
  }
 },
 "nbformat": 4,
 "nbformat_minor": 5
}
