{
 "cells": [
  {
   "cell_type": "code",
   "execution_count": null,
   "id": "0bb884e0",
   "metadata": {},
   "outputs": [],
   "source": [
    "##list comprehension is a way to create a new list with less syntax\n",
    "#[expression/output for loop condition]"
   ]
  },
  {
   "cell_type": "code",
   "execution_count": 2,
   "id": "cd825679",
   "metadata": {},
   "outputs": [
    {
     "name": "stdout",
     "output_type": "stream",
     "text": [
      "['RED', 'BLUE', 'GREEN', 'BLACK']\n"
     ]
    }
   ],
   "source": [
    "lst = [\"red\",\"blue\",\"green\",\"black\"]\n",
    "newlist = [i.upper() for i in lst]\n",
    "print(newlist)"
   ]
  },
  {
   "cell_type": "code",
   "execution_count": 4,
   "id": "fc0d398a",
   "metadata": {},
   "outputs": [
    {
     "name": "stdout",
     "output_type": "stream",
     "text": [
      "[2, 4]\n"
     ]
    }
   ],
   "source": [
    "lst = [1,2,3,4,5]\n",
    "\n",
    "newlist = [i for i in lst if i%2==0]\n",
    "print(newlist)"
   ]
  },
  {
   "cell_type": "code",
   "execution_count": null,
   "id": "c4886a56",
   "metadata": {},
   "outputs": [],
   "source": [
    "#generate with the first letter of the elements \n",
    "lst = [\"red\",\"blue\",\"green\",\"black\"]\n",
    "##flattening a list \n",
    "lst = [[1,2,3],[4,5,6],[7,8,9]] \n",
    "##output  = [1,2,3,4,5,6,7,8,9]"
   ]
  },
  {
   "cell_type": "code",
   "execution_count": null,
   "id": "08334a7f",
   "metadata": {},
   "outputs": [],
   "source": []
  },
  {
   "cell_type": "code",
   "execution_count": null,
   "id": "58ef5dd3",
   "metadata": {},
   "outputs": [],
   "source": []
  },
  {
   "cell_type": "code",
   "execution_count": null,
   "id": "2fe6439a",
   "metadata": {},
   "outputs": [],
   "source": []
  },
  {
   "cell_type": "code",
   "execution_count": null,
   "id": "d472d101",
   "metadata": {},
   "outputs": [],
   "source": []
  },
  {
   "cell_type": "code",
   "execution_count": null,
   "id": "c28c77bb",
   "metadata": {},
   "outputs": [],
   "source": []
  }
 ],
 "metadata": {
  "kernelspec": {
   "display_name": "Python 3",
   "language": "python",
   "name": "python3"
  },
  "language_info": {
   "codemirror_mode": {
    "name": "ipython",
    "version": 3
   },
   "file_extension": ".py",
   "mimetype": "text/x-python",
   "name": "python",
   "nbconvert_exporter": "python",
   "pygments_lexer": "ipython3",
   "version": "3.11.9"
  }
 },
 "nbformat": 4,
 "nbformat_minor": 5
}
